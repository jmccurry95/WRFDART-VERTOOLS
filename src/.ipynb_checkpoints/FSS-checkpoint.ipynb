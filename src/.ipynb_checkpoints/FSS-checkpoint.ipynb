{
 "cells": [
  {
   "cell_type": "code",
   "execution_count": 57,
   "id": "ea8270db-ed07-4ae4-b6c8-f04622fec0cf",
   "metadata": {
    "tags": []
   },
   "outputs": [],
   "source": [
    "from datetime import datetime\n",
    "import numpy as np\n",
    "import os\n",
    "import netCDF4 as nc\n",
    "import pandas as pd\n",
    "from scipy.spatial.distance import cdist\n",
    "from netCDF4 import Dataset as netcdf_dataset\n",
    "#import wrf\n",
    "#from wrf import to_np\n",
    "from datetime import datetime, timedelta\n",
    "import sys\n",
    "import os\n",
    "import subprocess\n",
    "import configparser\n",
    "import matplotlib.pyplot as plt"
   ]
  },
  {
   "cell_type": "code",
   "execution_count": 96,
   "id": "7f04a710-e044-4783-812c-eb4b394a21b3",
   "metadata": {
    "tags": []
   },
   "outputs": [],
   "source": [
    "class MissingEnvironmentVariable(Exception):\n",
    "    pass\n",
    "class ObsForecastDomainMismatch(Exception):\n",
    "    pass\n",
    "def _config_handler(setting): #gets settings from input files - dimsize, available vars, etc\n",
    "    if not os.path.isfile(\"FSS.ini\"):\n",
    "        raise FileNotFoundError('cannot find necessary config file')\n",
    "    else:\n",
    "        try:\n",
    "            config=configparser.ConfigParser()\n",
    "            config.read('{}/FSS.ini'.format(os.getcwd()))\n",
    "            return config['general']['{}'.format(setting)]\n",
    "        except:\n",
    "            raise MissingEnvironmentVariable('cannot find config variable: {}'.format(setting))\n",
    "def evaluate_fss(model_probabilities, obs_probabilities):\n",
    "    roi = [int(_config_handler('roi_1')),int(_config_handler('roi_2')),int(_config_handler('roi_3'))]  # About 3km, 6 km, 15 km, 45 km and 135km respectively\n",
    "    FN = [] #false negatives\n",
    "    FP = [] #false positives\n",
    "    TN = [] #true negatives\n",
    "    TP = [] #true positives\n",
    "    O = [] #observed fractions\n",
    "    M = [] #modeled fractions\n",
    "    possible = np.zeros((len(roi)+1,np.shape(model_probabilities)[0],np.shape(model_probabilities)[1])) #field showing total non-NAN gridpoints for scaling \n",
    "    if _config_handler('mask_fss')=='True':\n",
    "        MASK=np.load(FSS_MASK)\n",
    "    for i in range(int(_config_handler('roi_3')),int(_config_handler('dimsize_X'))-int(_config_handler('roi_3'))): #buffer based on largest ROI\n",
    "        for j in range(int(_config_handler('roi_3')),int(_config_handler('dimsize_Y'))-int(_config_handler('roi_3'))):   \n",
    "                if _config_handler('mask_fss')=='True':\n",
    "                    if(MASK[j,i]<0.5):\n",
    "                       continue\n",
    "                # Loop through roi's\n",
    "                obcount = []\n",
    "                modcount = []\n",
    "                fneg = []\n",
    "                fpos = []\n",
    "                tneg = []\n",
    "                tpos = []\n",
    "                \n",
    "                ri = 0\n",
    "                for r in roi:    \n",
    "                    # Take subset of points arround current one\n",
    "                    a_in = obs_probabilities[max(j-r,0):min(j+r+1,int(_config_handler('dimsize_X'))),max(i-r,0):min(i+r+1,int(_config_handler('dimsize_Y')))]\n",
    "                    b_in = model_probabilities[max(j-r,0):min(j+r+1,int(_config_handler('dimsize_X'))),max(i-r,0):min(i+r+1,int(_config_handler('dimsize_Y')))]\n",
    "                    # calculate number of valid elements \n",
    "                    \n",
    "                    possible[ri,j,i] = float(np.count_nonzero(~np.isnan(a_in)))\n",
    "                    #if > 50% of FSS window is within boundaries and not outside radar FOI or otherwise NAN, record fractions\n",
    "                    if(possible[ri,j,i]>=0.5*(((2*r)+1)**2)):\n",
    "                        # Number of obs field points where threshold is exceeded\n",
    "                 \n",
    "                        obcount.append(float(np.nansum(a_in))/possible[ri,j,i])\n",
    "                        \n",
    "                        # Number of model points where threshold is exceeded\n",
    "\n",
    "                        modcount.append(float(np.nansum(b_in))/possible[ri,j,i])\n",
    "\n",
    "                        # Store obs fraction calculations for each roi                         \n",
    "                        fneg.append(np.nansum(np.where((a_in==1)&(b_in<1),1-b_in,0))) \n",
    "                        fpos.append(np.nansum(np.where((a_in==0)&(b_in>0),b_in,0)))\n",
    "                        tneg.append(np.nansum(np.where((a_in==0)&(b_in<1),1-b_in,0)))\n",
    "                        tpos.append(np.nansum(np.where((a_in==1)&(b_in>0),b_in,0)))\n",
    "                    # if < 50% of FSS window is valid, then record NAN's instead of fractions \n",
    "                    else:\n",
    "                   \n",
    "                        \n",
    "                        obcount = [np.nan for r in roi]\n",
    "\n",
    "                        # Number of model points where threshold is exceeded\n",
    "\n",
    "                        modcount = [np.nan for r in roi]\n",
    "\n",
    "                        # Store obs fraction calculations for each roi \n",
    "                          \n",
    "                        #detection theory stuff\n",
    "                        fneg = [np.nan for r in roi]\n",
    "                        fpos = [np.nan for r in roi]\n",
    "                        tneg = [np.nan for r in roi]\n",
    "                        tpos = [np.nan for r in roi]\n",
    "                        break \n",
    "                    ri = ri + 1                       \n",
    "\n",
    "                O.append(obcount)\n",
    "                M.append(modcount)\n",
    "                FN.append(fneg)\n",
    "                FP.append(fpos)\n",
    "                TN.append(tneg)\n",
    "                TP.append(tpos)\n",
    "                    # Loop through roi's\n",
    "   \n",
    "\n",
    "    FN = np.array(FN)\n",
    "    FP = np.array(FP)\n",
    "    TN = np.array(TN)\n",
    "    TP = np.array(TP)\n",
    "    O = np.array(O)\n",
    "    M = np.array(M)\n",
    "    fss = []\n",
    "    bias = []\n",
    "    pod =[]\n",
    "    false_alarm = []\n",
    "    for i in range(np.size(roi)):\n",
    "        pod.append(1 - np.nanmean(FN[:,i])/np.nanmean((FN[:,i]+TP[:,i])))\n",
    "        false_alarm.append(np.nanmean(FP[:,i])/np.nanmean((FP[:,i]+TN[:,i])))\n",
    "        MSE = np.nansum( (O[:,i] - M[:,i])**2 ) / np.count_nonzero(~np.isnan(O[:,i]))\n",
    "        MSE_ref = ( np.nansum( O[:,i]**2 ) + np.nansum( M[:,i]**2 ) ) / np.count_nonzero(~np.isnan(O[:,i]))\n",
    "        fss.append(1.0 - (MSE / MSE_ref))\n",
    "        bias.append(np.nansum( (O[:,i] - M[:,i]) ) / np.count_nonzero(~np.isnan(O[:,i])))\n",
    "    return fss,bias,false_alarm,pod   \n",
    "def _find_files_with_numerical_suffix(basedir,extra_terms='N/A'):\n",
    "    file_list = []\n",
    "    for filename in os.listdir(basedir):\n",
    "        if filename[-1].isdigit():  # Check if the last character is a digit\n",
    "            if extra_terms!='N/A':\n",
    "                file_list.append(os.path.join(basedir,filename))\n",
    "            elif extra_terms in filename:\n",
    "                file_list.append(os.path.join(basedir,filename))       \n",
    "    return file_list\n",
    "def _return_date_from_filename(filename):\n",
    "    basename=os.path.basename(os.path.normpath(filename))\n",
    "    date = re.findall('\\d+',basename)\n",
    "    return date\n",
    "def _ensemble_getter(timestamp_path): #in: datetimes, base directories (global) out: filepaths\n",
    "    file_list = _find_files_with_numerical_suffix(timestamp_path,extra_terms='wrfout_d01_forecast')\n",
    "    return file_list\n",
    "def _obs_getter(timestamp_path): #in: datetimes, base directories (global) out: filepaths\n",
    "    file_list=[]\n",
    "    base_directory=_config_handler('base_obs_directory')\n",
    "    timestamp_date=_return_date_from_filename(timestamp_path)\n",
    "    file_list.append(os.join(base_directory,timestamp_date))\n",
    "    return file_list\n",
    "\n",
    "def _init_getter(): #get valid forecast initiation times\n",
    "    stride_mode=_config_handler('find_mode')\n",
    "    parent_directory = _config_handler('parent_directory')\n",
    "    folder_list=[]\n",
    "    if stride_mode=='datetime':\n",
    "        start_init=_config_handler('start_init')\n",
    "        end_init=_config_handler('end_init')\n",
    "        delta=timedelta(minutes=_config_handler('init_interval'))\n",
    "        while start_init<end_init:\n",
    "            folder_list.append(os.path.join(parent_directory,'{}{}'.format('WRFOUTS_FCST',start_init.strftime(\"%Y%m%d%H%M\"))))\n",
    "            start_init+=delta\n",
    "    else:\n",
    "        folder_list=_find_files_with_numerical_suffix(parent_directory,extra_terms='WRFOUTS_FCST')\n",
    "        \n",
    "    return folder_list\n",
    "def _timestamp_getter(init_path): #get valid timestamps in each forecast init folder \n",
    "    stride_mode=_config_handler('find_mode')\n",
    "    folder_list=[]\n",
    "    if stride_mode=='datetime':\n",
    "        delta_total=timedelta(minutes=_config_handler('forecast_length'))\n",
    "        delta_interval=timedelta(minutes=_config_handler('forecast_output_interval'))\n",
    "        start_timestamp=datetime.strptime(_return_date_from_filename(init_path),\"%Y%m%d%H%M\")\n",
    "        end_timestamp=start_timestamp+delta_total\n",
    "        while start_timestamp<end_timestamp:\n",
    "            folder_list.append(os.path.join(init_path,'{}'.format(start_timestamp.strftime(\"%Y%m%d%H%M\"))))\n",
    "            start_timestamp+=delta_interval\n",
    "    else:\n",
    "        folder_list = _find_files_with_numerical_suffix(init_path)\n",
    "    return folder_list\n",
    "def _get_event_probability(infiles,variable,thresh,operation='none'):\n",
    "    #set up empty array for calculations\n",
    "    \n",
    "    for n,infile in enumerate(infiles):  \n",
    "        #try:\n",
    "        reflh = np.asarray(netcdf_dataset(infile)[variable]).squeeze()\n",
    "        #except:\n",
    "        #    reflh = np.load(infile)\n",
    "        #    reflh = reflh.squeeze()\n",
    "        if operation == 'composite':\n",
    "            reflh = np.amax(reflh,axis=0).squeeze()\n",
    "        if (n==0):\n",
    "            probabilities = np.zeros_like(reflh)\n",
    "        probabilities += np.where(reflh>=thresh, 1, 0)\n",
    "\n",
    "    probabilities[np.isnan(reflh)] = np.nan\n",
    "    probabilities_final = probabilities/len(infiles)\n",
    "    return probabilities_final\n"
   ]
  },
  {
   "cell_type": "code",
   "execution_count": null,
   "id": "bb86d859-3737-4716-a197-d13a53c0f906",
   "metadata": {},
   "outputs": [],
   "source": [
    "if __name__ == \"__main__\":\n",
    "    init_paths=_init_geter()\n",
    "    for init_path in init_paths:\n",
    "        timestamp_paths=_timestamp_getter(init_path)\n",
    "            for n,timestamp_path in enumerate(timestamp_paths):\n",
    "                print('working on time: {} init: {}'.format(_get_date_from_filename(timestamp_path),_get_date_from_filename(init_path)))\n",
    "                indie = n*int(eval(_config_handler('forecast_output_interval')))\n",
    "                ensemble=_ensemble_getter(timestamp_path)\n",
    "                obs=_obs_getter(timestamp_path)\n",
    "                if _config_handler('mask_obs')=='True':\n",
    "                    obs=_mask_obs(obs)\n",
    "                ensemble_probs=_get_event_probability(ensemble,variable=eval(_config_handler('model_variable_of_interest')),eval(_config_handler('thresh')),operation=eval(_config_handler('operation')))\n",
    "                obs_probs=_get_event_probability(obs,variable=eval(_config_handler('obs_variable_of_interest')),eval(_config_handler('thresh')),operation=eval(_config_handler('operation')))\n",
    "                ensemble_probs[np.isnan(obs_probs)]=np.nan\n",
    "                fss,bias,false_alarm,pod = evaluate_fss(ensemble_probs,obs_probs\n",
    "\n",
    "                if(n==0):\n",
    "                     df = pd.DataFrame(np.array([[datetime.strptime(_get_date_from_filename(init_path),\"%Y%m%d%H%M\"),indie,fss[0],fss[1],fss[2],bias[0],bias[1],bias[2],pod[0],pod[1],pod[2],falarm[0],falarm[1],falarm[2]]]),columns=['init','time','3km_FSS','15km_FSS','135km_FSS','3km_BIAS','15km_BIAS','135km_BIAS','3km_POD','15km_POD','135km_POD','3km_FALARM','15km_FALARM','135km_FALARM']).set_index('time')        \n",
    "                else:\n",
    "                     df = df.append(pd.DataFrame(np.array([[datetime.strptime(_get_date_from_filename(init_path),\"%Y%m%d%H%M\"),indie,fss[0],fss[1],fss[2],bias[0],bias[1],bias[2],pod[0],pod[1],pod[2],falarm[0],falarm[1],falarm[2]]]),columns=['init','time','3km_FSS','15km_FSS','135km_FSS','3km_BIAS','15km_BIAS','135km_BIAS','3km_POD','15km_POD','135km_POD','3km_FALARM','15km_FALARM','135km_FALARM']).set_index('time'))        \n",
    "\n",
    "                    df= df.reset_index()\n",
    "                    os.makedirs('{}'.format(_config_handler('savedir')),exist_ok=True)\n",
    "                    df.to_pickle('{}/{}_{}'.format(_config_handler('savedir'),forecast_init,str(prescribed_thresh).replace(\".\", \"\")))"
   ]
  },
  {
   "cell_type": "code",
   "execution_count": 50,
   "id": "b64fdd51-1bc8-4b7f-b2ef-3d6147543b57",
   "metadata": {
    "tags": []
   },
   "outputs": [
    {
     "data": {
      "text/plain": [
       "'False'"
      ]
     },
     "execution_count": 50,
     "metadata": {},
     "output_type": "execute_result"
    }
   ],
   "source": [
    "#test config handler\n",
    "_config_handler('mask_fss')"
   ]
  },
  {
   "cell_type": "code",
   "execution_count": 87,
   "id": "80400559-52c4-48e0-be14-d581876ccb01",
   "metadata": {
    "tags": []
   },
   "outputs": [
    {
     "data": {
      "text/plain": [
       "<matplotlib.colorbar.Colorbar at 0x7f2b2b141e50>"
      ]
     },
     "execution_count": 87,
     "metadata": {},
     "output_type": "execute_result"
    },
    {
     "data": {
      "image/png": "[encoded data removed]",
      "text/plain": [
       "<Figure size 640x480 with 2 Axes>"
      ]
     },
     "metadata": {},
     "output_type": "display_data"
    }
   ],
   "source": [
    "#test model probabilties\n",
    "filelist=['RG_hydro-030_2.nc','RG_hydro-030.nc']\n",
    "model_probs=_get_event_probability(filelist,eval(_config_handler('model_variable_of_interest')),20)\n",
    "plt.imshow(model_probs)\n",
    "plt.colorbar()"
   ]
  },
  {
   "cell_type": "code",
   "execution_count": 88,
   "id": "9e22b910-eb33-4cc7-8fac-014eed8d5f21",
   "metadata": {
    "tags": []
   },
   "outputs": [
    {
     "data": {
      "text/plain": [
       "<matplotlib.colorbar.Colorbar at 0x7f2b2b018590>"
      ]
     },
     "execution_count": 88,
     "metadata": {},
     "output_type": "execute_result"
    },
    {
     "data": {
      "image/png": "[encoded data removed]",
      "text/plain": [
       "<Figure size 640x480 with 2 Axes>"
      ]
     },
     "metadata": {},
     "output_type": "display_data"
    }
   ],
   "source": [
    "#test observation probabilities\n",
    "filelist=['RG_IMERG-3h-precip-2020081906.nc']\n",
    "obs_probs=_get_event_probability(filelist,eval(_config_handler('obs_variable_of_interest')),20).T\n",
    "plt.imshow(obs_probs)\n",
    "plt.colorbar()"
   ]
  },
  {
   "cell_type": "code",
   "execution_count": 97,
   "id": "9d308c98-93a7-451d-b594-191ffe918bfd",
   "metadata": {
    "tags": []
   },
   "outputs": [],
   "source": [
    "fss,bias,false_alarm,pod = evaluate_fss(model_probs,obs_probs)"
   ]
  }
 ],
 "metadata": {
  "kernelspec": {
   "display_name": "Python 3 (ipykernel)",
   "language": "python",
   "name": "python3"
  },
  "language_info": {
   "codemirror_mode": {
    "name": "ipython",
    "version": 3
   },
   "file_extension": ".py",
   "mimetype": "text/x-python",
   "name": "python",
   "nbconvert_exporter": "python",
   "pygments_lexer": "ipython3",
   "version": "3.11.5"
  }
 },
 "nbformat": 4,
 "nbformat_minor": 5
}
